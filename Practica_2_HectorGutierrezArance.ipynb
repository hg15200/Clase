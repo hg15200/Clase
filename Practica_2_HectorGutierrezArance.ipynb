{
  "nbformat": 4,
  "nbformat_minor": 0,
  "metadata": {
    "colab": {
      "provenance": [],
      "include_colab_link": true
    },
    "kernelspec": {
      "display_name": "Python [default]",
      "language": "python",
      "name": "python3"
    },
    "language_info": {
      "codemirror_mode": {
        "name": "ipython",
        "version": 3
      },
      "file_extension": ".py",
      "mimetype": "text/x-python",
      "name": "python",
      "nbconvert_exporter": "python",
      "pygments_lexer": "ipython3",
      "version": "3.5.6"
    }
  },
  "cells": [
    {
      "cell_type": "markdown",
      "metadata": {
        "id": "view-in-github",
        "colab_type": "text"
      },
      "source": [
        "<a href=\"https://colab.research.google.com/github/hg15200/Clase/blob/main/Practica_2_HectorGutierrezArance.ipynb\" target=\"_parent\"><img src=\"https://colab.research.google.com/assets/colab-badge.svg\" alt=\"Open In Colab\"/></a>"
      ]
    },
    {
      "cell_type": "markdown",
      "metadata": {
        "id": "2xUZcLMxrF4C"
      },
      "source": [
        "\n",
        "<img src=https://static.casadomo.com/media/2020/02/lonmark-espana-universidad-valencia-jornada-automatizacion.png width=\"300\">\n",
        "\n",
        "\n",
        "# Procesado de Señal"
      ]
    },
    {
      "cell_type": "markdown",
      "metadata": {
        "id": "f4JYx2dQeL4V"
      },
      "source": [
        "# Práctica 2"
      ]
    },
    {
      "cell_type": "markdown",
      "metadata": {
        "id": "mi16tod-sW8s"
      },
      "source": [
        "\n",
        "# Parte 1 - Normalización y codificación de señales\n",
        "\n",
        "Detalles en: \n",
        "https://scikit-learn.org/stable/modules/preprocessing.html"
      ]
    },
    {
      "cell_type": "markdown",
      "metadata": {
        "id": "HUB_dW6eWbPS"
      },
      "source": [
        "## 1.1.1. Vamos a normalizar variables\n",
        "Leemos las librerias necesarias"
      ]
    },
    {
      "cell_type": "code",
      "metadata": {
        "id": "0ibuYiUpWP7q"
      },
      "source": [
        "from sklearn import datasets\n",
        "import matplotlib.pyplot as plt\n",
        "%matplotlib inline\n",
        "import numpy as np"
      ],
      "execution_count": 1,
      "outputs": []
    },
    {
      "cell_type": "markdown",
      "metadata": {
        "id": "MrbED4YdXv05"
      },
      "source": [
        "### Descargamos los datos de los datasets de sklearn y los visualizamos un poco"
      ]
    },
    {
      "cell_type": "code",
      "metadata": {
        "id": "ck--S8VzWQHp"
      },
      "source": [
        "iris = datasets.load_iris()"
      ],
      "execution_count": 2,
      "outputs": []
    },
    {
      "cell_type": "code",
      "metadata": {
        "id": "Te2rHjyGWQPd",
        "colab": {
          "base_uri": "https://localhost:8080/"
        },
        "outputId": "25da3bc0-1e2b-46a0-9355-a2749601c379"
      },
      "source": [
        "# Muestra la descripción\n",
        "print(iris.DESCR)"
      ],
      "execution_count": 3,
      "outputs": [
        {
          "output_type": "stream",
          "name": "stdout",
          "text": [
            ".. _iris_dataset:\n",
            "\n",
            "Iris plants dataset\n",
            "--------------------\n",
            "\n",
            "**Data Set Characteristics:**\n",
            "\n",
            "    :Number of Instances: 150 (50 in each of three classes)\n",
            "    :Number of Attributes: 4 numeric, predictive attributes and the class\n",
            "    :Attribute Information:\n",
            "        - sepal length in cm\n",
            "        - sepal width in cm\n",
            "        - petal length in cm\n",
            "        - petal width in cm\n",
            "        - class:\n",
            "                - Iris-Setosa\n",
            "                - Iris-Versicolour\n",
            "                - Iris-Virginica\n",
            "                \n",
            "    :Summary Statistics:\n",
            "\n",
            "    ============== ==== ==== ======= ===== ====================\n",
            "                    Min  Max   Mean    SD   Class Correlation\n",
            "    ============== ==== ==== ======= ===== ====================\n",
            "    sepal length:   4.3  7.9   5.84   0.83    0.7826\n",
            "    sepal width:    2.0  4.4   3.05   0.43   -0.4194\n",
            "    petal length:   1.0  6.9   3.76   1.76    0.9490  (high!)\n",
            "    petal width:    0.1  2.5   1.20   0.76    0.9565  (high!)\n",
            "    ============== ==== ==== ======= ===== ====================\n",
            "\n",
            "    :Missing Attribute Values: None\n",
            "    :Class Distribution: 33.3% for each of 3 classes.\n",
            "    :Creator: R.A. Fisher\n",
            "    :Donor: Michael Marshall (MARSHALL%PLU@io.arc.nasa.gov)\n",
            "    :Date: July, 1988\n",
            "\n",
            "The famous Iris database, first used by Sir R.A. Fisher. The dataset is taken\n",
            "from Fisher's paper. Note that it's the same as in R, but not as in the UCI\n",
            "Machine Learning Repository, which has two wrong data points.\n",
            "\n",
            "This is perhaps the best known database to be found in the\n",
            "pattern recognition literature.  Fisher's paper is a classic in the field and\n",
            "is referenced frequently to this day.  (See Duda & Hart, for example.)  The\n",
            "data set contains 3 classes of 50 instances each, where each class refers to a\n",
            "type of iris plant.  One class is linearly separable from the other 2; the\n",
            "latter are NOT linearly separable from each other.\n",
            "\n",
            ".. topic:: References\n",
            "\n",
            "   - Fisher, R.A. \"The use of multiple measurements in taxonomic problems\"\n",
            "     Annual Eugenics, 7, Part II, 179-188 (1936); also in \"Contributions to\n",
            "     Mathematical Statistics\" (John Wiley, NY, 1950).\n",
            "   - Duda, R.O., & Hart, P.E. (1973) Pattern Classification and Scene Analysis.\n",
            "     (Q327.D83) John Wiley & Sons.  ISBN 0-471-22361-1.  See page 218.\n",
            "   - Dasarathy, B.V. (1980) \"Nosing Around the Neighborhood: A New System\n",
            "     Structure and Classification Rule for Recognition in Partially Exposed\n",
            "     Environments\".  IEEE Transactions on Pattern Analysis and Machine\n",
            "     Intelligence, Vol. PAMI-2, No. 1, 67-71.\n",
            "   - Gates, G.W. (1972) \"The Reduced Nearest Neighbor Rule\".  IEEE Transactions\n",
            "     on Information Theory, May 1972, 431-433.\n",
            "   - See also: 1988 MLC Proceedings, 54-64.  Cheeseman et al\"s AUTOCLASS II\n",
            "     conceptual clustering system finds 3 classes in the data.\n",
            "   - Many, many more ...\n"
          ]
        }
      ]
    },
    {
      "cell_type": "code",
      "metadata": {
        "id": "SbNt5zF4W6OE",
        "colab": {
          "base_uri": "https://localhost:8080/"
        },
        "outputId": "41212279-e582-43cf-c34c-8008fcef361d"
      },
      "source": [
        "# las entradas\n",
        "iris.data"
      ],
      "execution_count": 4,
      "outputs": [
        {
          "output_type": "execute_result",
          "data": {
            "text/plain": [
              "array([[5.1, 3.5, 1.4, 0.2],\n",
              "       [4.9, 3. , 1.4, 0.2],\n",
              "       [4.7, 3.2, 1.3, 0.2],\n",
              "       [4.6, 3.1, 1.5, 0.2],\n",
              "       [5. , 3.6, 1.4, 0.2],\n",
              "       [5.4, 3.9, 1.7, 0.4],\n",
              "       [4.6, 3.4, 1.4, 0.3],\n",
              "       [5. , 3.4, 1.5, 0.2],\n",
              "       [4.4, 2.9, 1.4, 0.2],\n",
              "       [4.9, 3.1, 1.5, 0.1],\n",
              "       [5.4, 3.7, 1.5, 0.2],\n",
              "       [4.8, 3.4, 1.6, 0.2],\n",
              "       [4.8, 3. , 1.4, 0.1],\n",
              "       [4.3, 3. , 1.1, 0.1],\n",
              "       [5.8, 4. , 1.2, 0.2],\n",
              "       [5.7, 4.4, 1.5, 0.4],\n",
              "       [5.4, 3.9, 1.3, 0.4],\n",
              "       [5.1, 3.5, 1.4, 0.3],\n",
              "       [5.7, 3.8, 1.7, 0.3],\n",
              "       [5.1, 3.8, 1.5, 0.3],\n",
              "       [5.4, 3.4, 1.7, 0.2],\n",
              "       [5.1, 3.7, 1.5, 0.4],\n",
              "       [4.6, 3.6, 1. , 0.2],\n",
              "       [5.1, 3.3, 1.7, 0.5],\n",
              "       [4.8, 3.4, 1.9, 0.2],\n",
              "       [5. , 3. , 1.6, 0.2],\n",
              "       [5. , 3.4, 1.6, 0.4],\n",
              "       [5.2, 3.5, 1.5, 0.2],\n",
              "       [5.2, 3.4, 1.4, 0.2],\n",
              "       [4.7, 3.2, 1.6, 0.2],\n",
              "       [4.8, 3.1, 1.6, 0.2],\n",
              "       [5.4, 3.4, 1.5, 0.4],\n",
              "       [5.2, 4.1, 1.5, 0.1],\n",
              "       [5.5, 4.2, 1.4, 0.2],\n",
              "       [4.9, 3.1, 1.5, 0.2],\n",
              "       [5. , 3.2, 1.2, 0.2],\n",
              "       [5.5, 3.5, 1.3, 0.2],\n",
              "       [4.9, 3.6, 1.4, 0.1],\n",
              "       [4.4, 3. , 1.3, 0.2],\n",
              "       [5.1, 3.4, 1.5, 0.2],\n",
              "       [5. , 3.5, 1.3, 0.3],\n",
              "       [4.5, 2.3, 1.3, 0.3],\n",
              "       [4.4, 3.2, 1.3, 0.2],\n",
              "       [5. , 3.5, 1.6, 0.6],\n",
              "       [5.1, 3.8, 1.9, 0.4],\n",
              "       [4.8, 3. , 1.4, 0.3],\n",
              "       [5.1, 3.8, 1.6, 0.2],\n",
              "       [4.6, 3.2, 1.4, 0.2],\n",
              "       [5.3, 3.7, 1.5, 0.2],\n",
              "       [5. , 3.3, 1.4, 0.2],\n",
              "       [7. , 3.2, 4.7, 1.4],\n",
              "       [6.4, 3.2, 4.5, 1.5],\n",
              "       [6.9, 3.1, 4.9, 1.5],\n",
              "       [5.5, 2.3, 4. , 1.3],\n",
              "       [6.5, 2.8, 4.6, 1.5],\n",
              "       [5.7, 2.8, 4.5, 1.3],\n",
              "       [6.3, 3.3, 4.7, 1.6],\n",
              "       [4.9, 2.4, 3.3, 1. ],\n",
              "       [6.6, 2.9, 4.6, 1.3],\n",
              "       [5.2, 2.7, 3.9, 1.4],\n",
              "       [5. , 2. , 3.5, 1. ],\n",
              "       [5.9, 3. , 4.2, 1.5],\n",
              "       [6. , 2.2, 4. , 1. ],\n",
              "       [6.1, 2.9, 4.7, 1.4],\n",
              "       [5.6, 2.9, 3.6, 1.3],\n",
              "       [6.7, 3.1, 4.4, 1.4],\n",
              "       [5.6, 3. , 4.5, 1.5],\n",
              "       [5.8, 2.7, 4.1, 1. ],\n",
              "       [6.2, 2.2, 4.5, 1.5],\n",
              "       [5.6, 2.5, 3.9, 1.1],\n",
              "       [5.9, 3.2, 4.8, 1.8],\n",
              "       [6.1, 2.8, 4. , 1.3],\n",
              "       [6.3, 2.5, 4.9, 1.5],\n",
              "       [6.1, 2.8, 4.7, 1.2],\n",
              "       [6.4, 2.9, 4.3, 1.3],\n",
              "       [6.6, 3. , 4.4, 1.4],\n",
              "       [6.8, 2.8, 4.8, 1.4],\n",
              "       [6.7, 3. , 5. , 1.7],\n",
              "       [6. , 2.9, 4.5, 1.5],\n",
              "       [5.7, 2.6, 3.5, 1. ],\n",
              "       [5.5, 2.4, 3.8, 1.1],\n",
              "       [5.5, 2.4, 3.7, 1. ],\n",
              "       [5.8, 2.7, 3.9, 1.2],\n",
              "       [6. , 2.7, 5.1, 1.6],\n",
              "       [5.4, 3. , 4.5, 1.5],\n",
              "       [6. , 3.4, 4.5, 1.6],\n",
              "       [6.7, 3.1, 4.7, 1.5],\n",
              "       [6.3, 2.3, 4.4, 1.3],\n",
              "       [5.6, 3. , 4.1, 1.3],\n",
              "       [5.5, 2.5, 4. , 1.3],\n",
              "       [5.5, 2.6, 4.4, 1.2],\n",
              "       [6.1, 3. , 4.6, 1.4],\n",
              "       [5.8, 2.6, 4. , 1.2],\n",
              "       [5. , 2.3, 3.3, 1. ],\n",
              "       [5.6, 2.7, 4.2, 1.3],\n",
              "       [5.7, 3. , 4.2, 1.2],\n",
              "       [5.7, 2.9, 4.2, 1.3],\n",
              "       [6.2, 2.9, 4.3, 1.3],\n",
              "       [5.1, 2.5, 3. , 1.1],\n",
              "       [5.7, 2.8, 4.1, 1.3],\n",
              "       [6.3, 3.3, 6. , 2.5],\n",
              "       [5.8, 2.7, 5.1, 1.9],\n",
              "       [7.1, 3. , 5.9, 2.1],\n",
              "       [6.3, 2.9, 5.6, 1.8],\n",
              "       [6.5, 3. , 5.8, 2.2],\n",
              "       [7.6, 3. , 6.6, 2.1],\n",
              "       [4.9, 2.5, 4.5, 1.7],\n",
              "       [7.3, 2.9, 6.3, 1.8],\n",
              "       [6.7, 2.5, 5.8, 1.8],\n",
              "       [7.2, 3.6, 6.1, 2.5],\n",
              "       [6.5, 3.2, 5.1, 2. ],\n",
              "       [6.4, 2.7, 5.3, 1.9],\n",
              "       [6.8, 3. , 5.5, 2.1],\n",
              "       [5.7, 2.5, 5. , 2. ],\n",
              "       [5.8, 2.8, 5.1, 2.4],\n",
              "       [6.4, 3.2, 5.3, 2.3],\n",
              "       [6.5, 3. , 5.5, 1.8],\n",
              "       [7.7, 3.8, 6.7, 2.2],\n",
              "       [7.7, 2.6, 6.9, 2.3],\n",
              "       [6. , 2.2, 5. , 1.5],\n",
              "       [6.9, 3.2, 5.7, 2.3],\n",
              "       [5.6, 2.8, 4.9, 2. ],\n",
              "       [7.7, 2.8, 6.7, 2. ],\n",
              "       [6.3, 2.7, 4.9, 1.8],\n",
              "       [6.7, 3.3, 5.7, 2.1],\n",
              "       [7.2, 3.2, 6. , 1.8],\n",
              "       [6.2, 2.8, 4.8, 1.8],\n",
              "       [6.1, 3. , 4.9, 1.8],\n",
              "       [6.4, 2.8, 5.6, 2.1],\n",
              "       [7.2, 3. , 5.8, 1.6],\n",
              "       [7.4, 2.8, 6.1, 1.9],\n",
              "       [7.9, 3.8, 6.4, 2. ],\n",
              "       [6.4, 2.8, 5.6, 2.2],\n",
              "       [6.3, 2.8, 5.1, 1.5],\n",
              "       [6.1, 2.6, 5.6, 1.4],\n",
              "       [7.7, 3. , 6.1, 2.3],\n",
              "       [6.3, 3.4, 5.6, 2.4],\n",
              "       [6.4, 3.1, 5.5, 1.8],\n",
              "       [6. , 3. , 4.8, 1.8],\n",
              "       [6.9, 3.1, 5.4, 2.1],\n",
              "       [6.7, 3.1, 5.6, 2.4],\n",
              "       [6.9, 3.1, 5.1, 2.3],\n",
              "       [5.8, 2.7, 5.1, 1.9],\n",
              "       [6.8, 3.2, 5.9, 2.3],\n",
              "       [6.7, 3.3, 5.7, 2.5],\n",
              "       [6.7, 3. , 5.2, 2.3],\n",
              "       [6.3, 2.5, 5. , 1.9],\n",
              "       [6.5, 3. , 5.2, 2. ],\n",
              "       [6.2, 3.4, 5.4, 2.3],\n",
              "       [5.9, 3. , 5.1, 1.8]])"
            ]
          },
          "metadata": {},
          "execution_count": 4
        }
      ]
    },
    {
      "cell_type": "code",
      "metadata": {
        "id": "E-buEmlGW_4X",
        "colab": {
          "base_uri": "https://localhost:8080/"
        },
        "outputId": "73bdd55c-13e9-406b-e885-2d429cefc350"
      },
      "source": [
        "# las salidas\n",
        "iris.target"
      ],
      "execution_count": 5,
      "outputs": [
        {
          "output_type": "execute_result",
          "data": {
            "text/plain": [
              "array([0, 0, 0, 0, 0, 0, 0, 0, 0, 0, 0, 0, 0, 0, 0, 0, 0, 0, 0, 0, 0, 0,\n",
              "       0, 0, 0, 0, 0, 0, 0, 0, 0, 0, 0, 0, 0, 0, 0, 0, 0, 0, 0, 0, 0, 0,\n",
              "       0, 0, 0, 0, 0, 0, 1, 1, 1, 1, 1, 1, 1, 1, 1, 1, 1, 1, 1, 1, 1, 1,\n",
              "       1, 1, 1, 1, 1, 1, 1, 1, 1, 1, 1, 1, 1, 1, 1, 1, 1, 1, 1, 1, 1, 1,\n",
              "       1, 1, 1, 1, 1, 1, 1, 1, 1, 1, 1, 1, 2, 2, 2, 2, 2, 2, 2, 2, 2, 2,\n",
              "       2, 2, 2, 2, 2, 2, 2, 2, 2, 2, 2, 2, 2, 2, 2, 2, 2, 2, 2, 2, 2, 2,\n",
              "       2, 2, 2, 2, 2, 2, 2, 2, 2, 2, 2, 2, 2, 2, 2, 2, 2, 2])"
            ]
          },
          "metadata": {},
          "execution_count": 5
        }
      ]
    },
    {
      "cell_type": "code",
      "metadata": {
        "id": "nhcBbfFTXBoR",
        "colab": {
          "base_uri": "https://localhost:8080/"
        },
        "outputId": "2bf257fb-cff2-4d1d-fa14-464e7484f0b3"
      },
      "source": [
        "# tamaño de entrada\n",
        "iris.data.shape"
      ],
      "execution_count": 6,
      "outputs": [
        {
          "output_type": "execute_result",
          "data": {
            "text/plain": [
              "(150, 4)"
            ]
          },
          "metadata": {},
          "execution_count": 6
        }
      ]
    },
    {
      "cell_type": "code",
      "metadata": {
        "id": "haQYxiu1XD2u",
        "colab": {
          "base_uri": "https://localhost:8080/"
        },
        "outputId": "88332ba5-b81a-4ab4-ea91-25885da8e9af"
      },
      "source": [
        "# tamaño de salida\n",
        "iris.target.shape"
      ],
      "execution_count": 7,
      "outputs": [
        {
          "output_type": "execute_result",
          "data": {
            "text/plain": [
              "(150,)"
            ]
          },
          "metadata": {},
          "execution_count": 7
        }
      ]
    },
    {
      "cell_type": "code",
      "metadata": {
        "id": "KttXVMGTXHpW",
        "colab": {
          "base_uri": "https://localhost:8080/",
          "height": 265
        },
        "outputId": "5cf1702c-30ea-43d2-b071-f59e051d7323"
      },
      "source": [
        "# un histograma de la primera dimension\n",
        "plt.hist(iris.data[:,0],21);"
      ],
      "execution_count": 8,
      "outputs": [
        {
          "output_type": "display_data",
          "data": {
            "text/plain": [
              "<Figure size 432x288 with 1 Axes>"
            ],
            "image/png": "[encoded data removed]"
          },
          "metadata": {
            "needs_background": "light"
          }
        }
      ]
    },
    {
      "cell_type": "code",
      "metadata": {
        "id": "o0XvzxdAXmmQ",
        "colab": {
          "base_uri": "https://localhost:8080/",
          "height": 265
        },
        "outputId": "f74ceb54-ff60-4b45-e5d6-9bffc5028ae2"
      },
      "source": [
        "# un histograma de la segunda dimension\n",
        "plt.hist(iris.data[:,1],21);"
      ],
      "execution_count": 9,
      "outputs": [
        {
          "output_type": "display_data",
          "data": {
            "text/plain": [
              "<Figure size 432x288 with 1 Axes>"
            ],
            "image/png": "[encoded data removed]"
          },
          "metadata": {
            "needs_background": "light"
          }
        }
      ]
    },
    {
      "cell_type": "markdown",
      "metadata": {
        "id": "A5KbQy5DX45H"
      },
      "source": [
        "### Normalizamos la primera variable \"a mano\""
      ]
    },
    {
      "cell_type": "code",
      "metadata": {
        "id": "kViJSg_5X78-"
      },
      "source": [
        "X = iris.data"
      ],
      "execution_count": 10,
      "outputs": []
    },
    {
      "cell_type": "code",
      "metadata": {
        "colab": {
          "base_uri": "https://localhost:8080/"
        },
        "id": "KhkPBh92412E",
        "outputId": "f8eca57c-4ee5-4ef6-c91b-36d3319a6570"
      },
      "source": [
        "X.shape"
      ],
      "execution_count": 11,
      "outputs": [
        {
          "output_type": "execute_result",
          "data": {
            "text/plain": [
              "(150, 4)"
            ]
          },
          "metadata": {},
          "execution_count": 11
        }
      ]
    },
    {
      "cell_type": "markdown",
      "metadata": {
        "id": "iKOHqKXpv13Y"
      },
      "source": [
        "#### Normalizamos sin quitar el mínimo"
      ]
    },
    {
      "cell_type": "code",
      "metadata": {
        "id": "UcoHt59XX_Rf"
      },
      "source": [
        "X_n = X[:,0] / np.max(X[:,0])"
      ],
      "execution_count": 12,
      "outputs": []
    },
    {
      "cell_type": "code",
      "metadata": {
        "id": "GTwqJ1r6YGTz",
        "colab": {
          "base_uri": "https://localhost:8080/",
          "height": 265
        },
        "outputId": "ab86fdf8-c4a8-40c2-f974-9e71a0f0232b"
      },
      "source": [
        "# Histograma sin normalizar\n",
        "plt.hist(X[:,0],21);"
      ],
      "execution_count": 13,
      "outputs": [
        {
          "output_type": "display_data",
          "data": {
            "text/plain": [
              "<Figure size 432x288 with 1 Axes>"
            ],
            "image/png": "[encoded data removed]"
          },
          "metadata": {
            "needs_background": "light"
          }
        }
      ]
    },
    {
      "cell_type": "code",
      "metadata": {
        "id": "XncSdCNMYWBY",
        "colab": {
          "base_uri": "https://localhost:8080/",
          "height": 265
        },
        "outputId": "357f1b5c-c65a-4e17-a091-a8459e430fb9"
      },
      "source": [
        "# Histograma normalizando\n",
        "plt.hist(X_n,21);"
      ],
      "execution_count": 14,
      "outputs": [
        {
          "output_type": "display_data",
          "data": {
            "text/plain": [
              "<Figure size 432x288 with 1 Axes>"
            ],
            "image/png": "[encoded data removed]"
          },
          "metadata": {
            "needs_background": "light"
          }
        }
      ]
    },
    {
      "cell_type": "code",
      "metadata": {
        "id": "NGtu0iXYcuJc",
        "colab": {
          "base_uri": "https://localhost:8080/",
          "height": 281
        },
        "outputId": "52dc3adf-1081-4b8d-d4ce-38ffa89fd4f4"
      },
      "source": [
        "# Usando subplot ...\n",
        "plt.figure(figsize=(10,4))\n",
        "plt.subplot(1,2,1), plt.hist(X[:,0],21), plt.title('Sin normalizar')\n",
        "plt.subplot(1,2,2), plt.hist(X_n,21), plt.title('Normalizado');"
      ],
      "execution_count": 15,
      "outputs": [
        {
          "output_type": "display_data",
          "data": {
            "text/plain": [
              "<Figure size 720x288 with 2 Axes>"
            ],
            "image/png": "[encoded data removed]"
          },
          "metadata": {
            "needs_background": "light"
          }
        }
      ]
    },
    {
      "cell_type": "markdown",
      "metadata": {
        "id": "CMn6hoc41yGP"
      },
      "source": [
        "#### Ejercicio: \n",
        "Haz lo mismo pero para la dimensión 2, i.e. X\\[:,1\\]"
      ]
    },
    {
      "cell_type": "code",
      "metadata": {
        "id": "Etuuz9l41Exz",
        "colab": {
          "base_uri": "https://localhost:8080/",
          "height": 281
        },
        "outputId": "6d6b3b62-80b4-4fc0-e2cc-37e2c2a87b0a"
      },
      "source": [
        "X_n = X[:,1] / np.max(X[:,1])\n",
        "\n",
        "# Usando subplot ...\n",
        "plt.figure(figsize=(10,4))\n",
        "plt.subplot(1,2,1), plt.hist(X[:,1],21), plt.title('Sin normalizar')\n",
        "plt.subplot(1,2,2), plt.hist(X_n,21), plt.title('Normalizado');"
      ],
      "execution_count": 30,
      "outputs": [
        {
          "output_type": "display_data",
          "data": {
            "text/plain": [
              "<Figure size 720x288 with 2 Axes>"
            ],
            "image/png": "[encoded data removed]"
          },
          "metadata": {
            "needs_background": "light"
          }
        }
      ]
    },
    {
      "cell_type": "markdown",
      "metadata": {
        "id": "Kcj8A0P0v7dh"
      },
      "source": [
        "#### Normalizamos quitando el mínimo"
      ]
    },
    {
      "cell_type": "code",
      "metadata": {
        "id": "wDZVdXBNYe33"
      },
      "source": [
        "X_n = (X[:,0] - np.min(X[:,0])) / (np.max(X[:,0]) - np.min(X[:,0]))"
      ],
      "execution_count": 28,
      "outputs": []
    },
    {
      "cell_type": "code",
      "metadata": {
        "id": "34ez-nkfYe4X",
        "colab": {
          "base_uri": "https://localhost:8080/",
          "height": 281
        },
        "outputId": "ac222737-d1c7-4ad8-9373-b7826dde34cd"
      },
      "source": [
        "plt.figure(figsize=(10,4))\n",
        "plt.subplot(1,2,1), plt.hist(X[:,0],21), plt.title('Sin normalizar')\n",
        "plt.subplot(1,2,2), plt.hist(X_n,21), plt.title('Normalizado');"
      ],
      "execution_count": 29,
      "outputs": [
        {
          "output_type": "display_data",
          "data": {
            "text/plain": [
              "<Figure size 720x288 with 2 Axes>"
            ],
            "image/png": "[encoded data removed]"
          },
          "metadata": {
            "needs_background": "light"
          }
        }
      ]
    },
    {
      "cell_type": "markdown",
      "metadata": {
        "id": "SPsf79I-1wuw"
      },
      "source": [
        "#### Ejercicio: \n",
        "Haz lo mismo pero para la dimensión 2, i.e. X\\[:,1\\]"
      ]
    },
    {
      "cell_type": "code",
      "metadata": {
        "id": "wLx2JGI9Ye4r",
        "colab": {
          "base_uri": "https://localhost:8080/",
          "height": 281
        },
        "outputId": "907bae32-0cab-49ff-edb1-af882cbe0a27"
      },
      "source": [
        "X_n = (X[:,1] - np.min(X[:,1])) / (np.max(X[:,1]) - np.min(X[:,1]))\n",
        "\n",
        "plt.figure(figsize=(10,4))\n",
        "plt.subplot(1,2,1), plt.hist(X[:,1],31), plt.title('Sin normalizar')\n",
        "plt.subplot(1,2,2), plt.hist(X_n,31), plt.title('Normalizado');"
      ],
      "execution_count": 26,
      "outputs": [
        {
          "output_type": "display_data",
          "data": {
            "text/plain": [
              "<Figure size 720x288 with 2 Axes>"
            ],
            "image/png": "[encoded data removed]"
          },
          "metadata": {
            "needs_background": "light"
          }
        }
      ]
    },
    {
      "cell_type": "markdown",
      "metadata": {
        "id": "HO-j8e-Tv_sx"
      },
      "source": [
        "#### Estandarizamos"
      ]
    },
    {
      "cell_type": "code",
      "metadata": {
        "id": "FyT0hhCaYxN-"
      },
      "source": [
        "X_n = (X[:,0] - np.mean(X[:,0])) / (np.std(X[:,0]))"
      ],
      "execution_count": 23,
      "outputs": []
    },
    {
      "cell_type": "code",
      "metadata": {
        "id": "W64zzzw-YxOp",
        "colab": {
          "base_uri": "https://localhost:8080/",
          "height": 472
        },
        "outputId": "3b4a173d-d9de-4a77-c5ae-dccd15ec396a"
      },
      "source": [
        "plt.figure(figsize=(10,4))\n",
        "plt.subplot(1,2,1), plt.hist(X[:,0],21), plt.title('Sin estandarizar')\n",
        "plt.subplot(1,2,2), plt.hist(X_n,21), plt.title('estandarizando')"
      ],
      "execution_count": 24,
      "outputs": [
        {
          "output_type": "execute_result",
          "data": {
            "text/plain": [
              "(<matplotlib.axes._subplots.AxesSubplot at 0x7f86356dec10>,\n",
              " (array([ 4.,  5.,  7.,  6., 19.,  5.,  6., 13., 15.,  9.,  6., 13., 12.,\n",
              "          2., 11.,  5.,  4.,  1.,  1.,  5.,  1.]),\n",
              "  array([-1.87002413e+00, -1.66230778e+00, -1.45459144e+00, -1.24687509e+00,\n",
              "         -1.03915874e+00, -8.31442387e-01, -6.23726038e-01, -4.16009689e-01,\n",
              "         -2.08293339e-01, -5.76989859e-04,  2.07139359e-01,  4.14855709e-01,\n",
              "          6.22572058e-01,  8.30288407e-01,  1.03800476e+00,  1.24572111e+00,\n",
              "          1.45343746e+00,  1.66115380e+00,  1.86887015e+00,  2.07658650e+00,\n",
              "          2.28430285e+00,  2.49201920e+00]),\n",
              "  <a list of 21 Patch objects>),\n",
              " Text(0.5, 1.0, 'estandarizando'))"
            ]
          },
          "metadata": {},
          "execution_count": 24
        },
        {
          "output_type": "display_data",
          "data": {
            "text/plain": [
              "<Figure size 720x288 with 2 Axes>"
            ],
            "image/png": "[encoded data removed]"
          },
          "metadata": {
            "needs_background": "light"
          }
        }
      ]
    },
    {
      "cell_type": "markdown",
      "metadata": {
        "id": "S9Ew9Wwu1oZv"
      },
      "source": [
        "#### Ejercicio: \n",
        "Haz lo mismo pero para la dimensión 2, i.e. X\\[:,1\\]"
      ]
    },
    {
      "cell_type": "code",
      "metadata": {
        "id": "sbb-1skS1oZy",
        "colab": {
          "base_uri": "https://localhost:8080/",
          "height": 455
        },
        "outputId": "005153b2-8fb7-42b9-e59d-3eb5af0bf009"
      },
      "source": [
        "X_n = (X[:,1] - np.mean(X[:,1])) / (np.std(X[:,1]))\n",
        "\n",
        "plt.figure(figsize=(10,4))\n",
        "plt.subplot(1,2,1), plt.hist(X[:,1],21), plt.title('Sin estandarizar')\n",
        "plt.subplot(1,2,2), plt.hist(X_n,21), plt.title('estandarizando')"
      ],
      "execution_count": 25,
      "outputs": [
        {
          "output_type": "execute_result",
          "data": {
            "text/plain": [
              "(<matplotlib.axes._subplots.AxesSubplot at 0x7f86355f6b80>,\n",
              " (array([ 1.,  3.,  4.,  3.,  8.,  5., 23., 10., 26., 11., 13.,  6., 12.,\n",
              "         10.,  3.,  6.,  2.,  1.,  1.,  1.,  1.]),\n",
              "  array([-2.43394714, -2.17086512, -1.9077831 , -1.64470109, -1.38161907,\n",
              "         -1.11853705, -0.85545503, -0.59237301, -0.32929099, -0.06620897,\n",
              "          0.19687304,  0.45995506,  0.72303708,  0.9861191 ,  1.24920112,\n",
              "          1.51228314,  1.77536516,  2.03844717,  2.30152919,  2.56461121,\n",
              "          2.82769323,  3.09077525]),\n",
              "  <a list of 21 Patch objects>),\n",
              " Text(0.5, 1.0, 'estandarizando'))"
            ]
          },
          "metadata": {},
          "execution_count": 25
        },
        {
          "output_type": "display_data",
          "data": {
            "text/plain": [
              "<Figure size 720x288 with 2 Axes>"
            ],
            "image/png": "[encoded data removed]"
          },
          "metadata": {
            "needs_background": "light"
          }
        }
      ]
    },
    {
      "cell_type": "markdown",
      "metadata": {
        "id": "9P_Hy6aa2sEW"
      },
      "source": [
        "#### Ejercicio:\n",
        "\n",
        "Explica la diferencia entre los tres métodos"
      ]
    },
    {
      "cell_type": "markdown",
      "metadata": {
        "id": "4l29KhN82stg"
      },
      "source": [
        "Cuando se realiza una normalización, no cambian los valores pero si lo hace la escala. En el caso de normalizar quitando el mínimo da como resultado el inicio de la señal en 0. Por su parte la estandarización permite obtener la misma forma de la señal pero en valores unificados que en este caso van del -2 al 3 (en lugar del 2 al 4,5 como se puede observar en la gráfica obtenida sin aplicar la estandarización)."
      ]
    },
    {
      "cell_type": "markdown",
      "metadata": {
        "id": "AAYhoUZ5ZAAd"
      },
      "source": [
        "### Normalizamos usando Sklearn\n",
        "\n",
        "https://scikit-learn.org/stable/modules/preprocessing.html"
      ]
    },
    {
      "cell_type": "code",
      "metadata": {
        "id": "LTnjLZq7ZYUJ"
      },
      "source": [
        "from sklearn import preprocessing"
      ],
      "execution_count": 31,
      "outputs": []
    },
    {
      "cell_type": "markdown",
      "metadata": {
        "id": "hfrgWaTMwRtO"
      },
      "source": [
        "#### Estandarizamos directamente"
      ]
    },
    {
      "cell_type": "code",
      "metadata": {
        "id": "VUXgTNyzZC4P"
      },
      "source": [
        "# Usamos la función de estandarización del sklearn\n",
        "X_n = preprocessing.scale(X[:,0])"
      ],
      "execution_count": 32,
      "outputs": []
    },
    {
      "cell_type": "code",
      "metadata": {
        "id": "DV7tkQuBZgIL",
        "colab": {
          "base_uri": "https://localhost:8080/",
          "height": 281
        },
        "outputId": "a65778af-6ab9-4cd7-cd91-468742bd6345"
      },
      "source": [
        "plt.figure(figsize=(10,4))\n",
        "plt.subplot(1,2,1), plt.hist(X[:,0],21), plt.title('Sin estandarizar')\n",
        "plt.subplot(1,2,2), plt.hist(X_n,21), plt.title('Estandarizado');"
      ],
      "execution_count": 33,
      "outputs": [
        {
          "output_type": "display_data",
          "data": {
            "text/plain": [
              "<Figure size 720x288 with 2 Axes>"
            ],
            "image/png": "[encoded data removed]"
          },
          "metadata": {
            "needs_background": "light"
          }
        }
      ]
    },
    {
      "cell_type": "markdown",
      "metadata": {
        "id": "qv98pKpsw2hS"
      },
      "source": [
        "#### Usamos los modelos de normalizacion"
      ]
    },
    {
      "cell_type": "code",
      "metadata": {
        "id": "XksUEQH8actO",
        "colab": {
          "base_uri": "https://localhost:8080/"
        },
        "outputId": "5c99e232-ff3b-4946-f5e4-0fcbd23eaffb"
      },
      "source": [
        "X[:,0].shape"
      ],
      "execution_count": 34,
      "outputs": [
        {
          "output_type": "execute_result",
          "data": {
            "text/plain": [
              "(150,)"
            ]
          },
          "metadata": {},
          "execution_count": 34
        }
      ]
    },
    {
      "cell_type": "code",
      "metadata": {
        "id": "1yqpK3wEZicG"
      },
      "source": [
        "# creamos la funcion para estandarizar y la entrenamos\n",
        "scaler = preprocessing.StandardScaler().fit(X)"
      ],
      "execution_count": 35,
      "outputs": []
    },
    {
      "cell_type": "code",
      "metadata": {
        "id": "b4U645CiaLob",
        "colab": {
          "base_uri": "https://localhost:8080/"
        },
        "outputId": "adbc7f1c-ac08-44e6-8462-ac4315e79f65"
      },
      "source": [
        "# La funcion contiene informacion sobre los datos originales\n",
        "# la media\n",
        "print(scaler.mean_)\n",
        "# el rango\n",
        "print(scaler.scale_)"
      ],
      "execution_count": 36,
      "outputs": [
        {
          "output_type": "stream",
          "name": "stdout",
          "text": [
            "[5.84333333 3.05733333 3.758      1.19933333]\n",
            "[0.82530129 0.43441097 1.75940407 0.75969263]\n"
          ]
        }
      ]
    },
    {
      "cell_type": "code",
      "metadata": {
        "id": "aI3dxAz7xC_b",
        "outputId": "b0686bc9-7ff8-4328-9653-2f7a2f0b2f55",
        "colab": {
          "base_uri": "https://localhost:8080/"
        }
      },
      "source": [
        "# si quiero estandarizar solo tengo que aplicar la funcion a los datos que quiera estandarizar\n",
        "X_n = scaler.transform(X)\n",
        "\n",
        "X_n.shape"
      ],
      "execution_count": 39,
      "outputs": [
        {
          "output_type": "execute_result",
          "data": {
            "text/plain": [
              "(150, 4)"
            ]
          },
          "metadata": {},
          "execution_count": 39
        }
      ]
    },
    {
      "cell_type": "code",
      "metadata": {
        "id": "2PkW31Lxx24f",
        "colab": {
          "base_uri": "https://localhost:8080/",
          "height": 281
        },
        "outputId": "bf73aab6-0bda-4d1d-b173-8b15e5cb55bb"
      },
      "source": [
        "plt.figure(figsize=(10,4))\n",
        "plt.subplot(1,2,1), plt.hist(X[:,0],21), plt.title('Sin estandarizar')\n",
        "plt.subplot(1,2,2), plt.hist(X_n[:,0],21), plt.title('Estandarizado');"
      ],
      "execution_count": 38,
      "outputs": [
        {
          "output_type": "display_data",
          "data": {
            "text/plain": [
              "<Figure size 720x288 with 2 Axes>"
            ],
            "image/png": "[encoded data removed]"
          },
          "metadata": {
            "needs_background": "light"
          }
        }
      ]
    },
    {
      "cell_type": "code",
      "metadata": {
        "id": "l45Fui303gPs",
        "colab": {
          "base_uri": "https://localhost:8080/",
          "height": 281
        },
        "outputId": "1832db0f-dc90-4ad0-8a02-6675833469ad"
      },
      "source": [
        "# Fíjate que ha estandarizado todas las dimensiones\n",
        "plt.figure(figsize=(10,4))\n",
        "plt.subplot(1,2,1), plt.hist(X,21), plt.title('Sin estandarizar')\n",
        "plt.subplot(1,2,2), plt.hist(X_n,21), plt.title('Estandarizado');"
      ],
      "execution_count": 40,
      "outputs": [
        {
          "output_type": "display_data",
          "data": {
            "text/plain": [
              "<Figure size 720x288 with 2 Axes>"
            ],
            "image/png": "[encoded data removed]"
          },
          "metadata": {
            "needs_background": "light"
          }
        }
      ]
    },
    {
      "cell_type": "markdown",
      "metadata": {
        "id": "E-V7lzeCyEO9"
      },
      "source": [
        "#### Ejercicio: \n",
        "Hay otros modelos, pruébalos. ¿Qué es lo que hacen en los datos?\n",
        "- `preprocessing.MinMaxScaler()`\n",
        "- `preprocessing.MaxAbsScaler()`"
      ]
    },
    {
      "cell_type": "code",
      "metadata": {
        "id": "Rm-NOweIR166",
        "colab": {
          "base_uri": "https://localhost:8080/",
          "height": 281
        },
        "outputId": "79019a4f-ef15-42d7-c726-fa8d04207cd3"
      },
      "source": [
        "scaler = preprocessing.MinMaxScaler().fit(X)\n",
        "X_n = scaler.transform(X)\n",
        "\n",
        "plt.figure(figsize=(10,4))\n",
        "plt.subplot(1,2,1), plt.hist(X[:,0],21), plt.title('Sin estandarizar')\n",
        "plt.subplot(1,2,2), plt.hist(X_n[:,0],21), plt.title('Estandarizado');"
      ],
      "execution_count": 41,
      "outputs": [
        {
          "output_type": "display_data",
          "data": {
            "text/plain": [
              "<Figure size 720x288 with 2 Axes>"
            ],
            "image/png": "[encoded data removed]"
          },
          "metadata": {
            "needs_background": "light"
          }
        }
      ]
    },
    {
      "cell_type": "code",
      "metadata": {
        "id": "BvVgxarNB5mi",
        "outputId": "1fb7109e-0072-4a80-f0d1-9498ded8e1ab",
        "colab": {
          "base_uri": "https://localhost:8080/",
          "height": 281
        }
      },
      "source": [
        "scaler = preprocessing.MaxAbsScaler().fit(X)\n",
        "X_n = scaler.transform(X)\n",
        "\n",
        "plt.figure(figsize=(10,4))\n",
        "plt.subplot(1,2,1), plt.hist(X[:,0],21), plt.title('Sin estandarizar')\n",
        "plt.subplot(1,2,2), plt.hist(X_n[:,0],21), plt.title('Estandarizado');"
      ],
      "execution_count": 42,
      "outputs": [
        {
          "output_type": "display_data",
          "data": {
            "text/plain": [
              "<Figure size 720x288 with 2 Axes>"
            ],
            "image/png": "[encoded data removed]"
          },
          "metadata": {
            "needs_background": "light"
          }
        }
      ]
    },
    {
      "cell_type": "code",
      "metadata": {
        "id": "lOe6BV8-Rq5-"
      },
      "source": [
        "# Tu respuesta aquí\n",
        "El primero hace lo mismo que el normalizo quitando el minimo y el segundo hace lo mismo que sin quitar el mínimo."
      ],
      "execution_count": null,
      "outputs": []
    },
    {
      "cell_type": "markdown",
      "metadata": {
        "id": "14grcLsczPMB"
      },
      "source": [
        "#### Ejercicio: \n",
        "El uso de modelos de normalización nos permite normalizar otros data sets utilizando exactamente la misma transformación. Esto es útil para normalizar los datos de entrenamiento, test y validación de la misma forma utilizando solo la informacióón de los datos de entrenamiento.\n",
        "\n",
        "Particiona los datos originales en train/test, entrena el modelo de normalización utilizando los datos de train, y normaliza los datos de train y test utilizando este modelo. Ayuda: utiliza la función `train_test_split` de sklearn."
      ]
    },
    {
      "cell_type": "code",
      "metadata": {
        "id": "pBlYzqgMyV2e",
        "colab": {
          "base_uri": "https://localhost:8080/",
          "height": 281
        },
        "outputId": "e90e7dda-c1f6-4bf1-c19f-2c88f01e9b90"
      },
      "source": [
        "from sklearn import model_selection\n",
        "\n",
        "X_train, X_test = model_selection.train_test_split(X,test_size=0.33)\n",
        "\n",
        "scaler = preprocessing.StandardScaler().fit(X_train)\n",
        "X_n = scaler.transform(X_test)\n",
        "\n",
        "plt.figure(figsize=(10,4))\n",
        "plt.subplot(1,2,1), plt.hist(X_test[:,0],21), plt.title('Sin estandarizar')\n",
        "plt.subplot(1,2,2), plt.hist(X_n[:,0],21), plt.title('Estandarizado');"
      ],
      "execution_count": 48,
      "outputs": [
        {
          "output_type": "display_data",
          "data": {
            "text/plain": [
              "<Figure size 720x288 with 2 Axes>"
            ],
            "image/png": "[encoded data removed]"
          },
          "metadata": {
            "needs_background": "light"
          }
        }
      ]
    },
    {
      "cell_type": "code",
      "source": [
        "plt.figure(figsize=(10,4))\n",
        "plt.subplot(1,2,1), plt.hist(X_test,21), plt.title('Sin estandarizar')\n",
        "plt.subplot(1,2,2), plt.hist(X_n,21), plt.title('Estandarizado');"
      ],
      "metadata": {
        "id": "8N_s5tOzrfYG",
        "outputId": "971c729f-55d2-4c83-da81-173003a44f6a",
        "colab": {
          "base_uri": "https://localhost:8080/",
          "height": 281
        }
      },
      "execution_count": 53,
      "outputs": [
        {
          "output_type": "display_data",
          "data": {
            "text/plain": [
              "<Figure size 720x288 with 2 Axes>"
            ],
            "image/png": "[encoded data removed]"
          },
          "metadata": {
            "needs_background": "light"
          }
        }
      ]
    },
    {
      "cell_type": "markdown",
      "metadata": {
        "id": "nxnB5z5VyjG0"
      },
      "source": [
        "## 1.1.2 Normalización avanzada\n",
        "\n",
        "En realidad esta parte es una ecualización de los datos. Convierte su distribución marginal (1D) para que tenga la distribucióón que nosotros queramos (uniforme, Gausiana, ...). Piensa que la transformacióón es monotónica creciente por lo que conserva el orden de los datos."
      ]
    },
    {
      "cell_type": "code",
      "metadata": {
        "id": "Cb5pKOl3ymsB",
        "colab": {
          "base_uri": "https://localhost:8080/"
        },
        "outputId": "b14ea3ce-2102-499d-86d8-61db81162e19"
      },
      "source": [
        "from sklearn.datasets import load_iris\n",
        "from sklearn.model_selection import train_test_split\n",
        "\n",
        "X = iris.data\n",
        "y = iris.target\n",
        "\n",
        "X_train, X_test, y_train, y_test = train_test_split(X, y, random_state=0)\n",
        "\n",
        "quantile_transformer = preprocessing.QuantileTransformer(random_state=0)\n",
        "\n",
        "X_train_trans = quantile_transformer.fit_transform(X_train)\n",
        "X_test_trans = quantile_transformer.transform(X_test)\n",
        "\n",
        "np.percentile(X_train[:, 0], [0, 25, 50, 75, 100])"
      ],
      "execution_count": 55,
      "outputs": [
        {
          "output_type": "stream",
          "name": "stderr",
          "text": [
            "/usr/local/lib/python3.8/dist-packages/sklearn/preprocessing/_data.py:2590: UserWarning: n_quantiles (1000) is greater than the total number of samples (112). n_quantiles is set to n_samples.\n",
            "  warnings.warn(\n"
          ]
        },
        {
          "output_type": "execute_result",
          "data": {
            "text/plain": [
              "array([4.3, 5.1, 5.8, 6.5, 7.9])"
            ]
          },
          "metadata": {},
          "execution_count": 55
        }
      ]
    },
    {
      "cell_type": "code",
      "metadata": {
        "id": "pi6U62-Z0Xf5",
        "colab": {
          "base_uri": "https://localhost:8080/",
          "height": 281
        },
        "outputId": "f563d1b3-c0dd-4809-e53a-efa2636ab261"
      },
      "source": [
        "plt.figure(figsize=(10,4))\n",
        "plt.subplot(1,2,1), plt.hist(X_train[:,0],21), plt.title('Sin ecualizar')\n",
        "plt.subplot(1,2,2), plt.hist(X_train_trans[:,0],21), plt.title('Ecualizado');"
      ],
      "execution_count": 56,
      "outputs": [
        {
          "output_type": "display_data",
          "data": {
            "text/plain": [
              "<Figure size 720x288 with 2 Axes>"
            ],
            "image/png": "[encoded data removed]"
          },
          "metadata": {
            "needs_background": "light"
          }
        }
      ]
    },
    {
      "cell_type": "markdown",
      "metadata": {
        "id": "em3YWQIY0m9P"
      },
      "source": [
        "#### Ejercicio: \n",
        "Transforma los datos de train para que tengan distribucion Gaussiana"
      ]
    },
    {
      "cell_type": "code",
      "metadata": {
        "id": "gOEjOkJUAATY",
        "colab": {
          "base_uri": "https://localhost:8080/",
          "height": 336
        },
        "outputId": "5787013b-a28f-4d51-bfbe-c5667d4b8df4"
      },
      "source": [
        "quantile_transformer = preprocessing.QuantileTransformer(random_state=0, output_distribution = 'normal')\n",
        "\n",
        "X_train_trans = quantile_transformer.fit_transform(X_train)\n",
        "X_test_trans = quantile_transformer.transform(X_test)\n",
        "\n",
        "plt.figure(figsize=(10,4))\n",
        "plt.subplot(1,2,1), plt.hist(X_test[:,0],21), plt.title('Sin ecualizar')\n",
        "plt.subplot(1,2,2), plt.hist(X_test_trans[:,0],21), plt.title('Ecualizado');"
      ],
      "execution_count": 58,
      "outputs": [
        {
          "output_type": "stream",
          "name": "stderr",
          "text": [
            "/usr/local/lib/python3.8/dist-packages/sklearn/preprocessing/_data.py:2590: UserWarning: n_quantiles (1000) is greater than the total number of samples (112). n_quantiles is set to n_samples.\n",
            "  warnings.warn(\n"
          ]
        },
        {
          "output_type": "display_data",
          "data": {
            "text/plain": [
              "<Figure size 720x288 with 2 Axes>"
            ],
            "image/png": "[encoded data removed]"
          },
          "metadata": {
            "needs_background": "light"
          }
        }
      ]
    },
    {
      "cell_type": "markdown",
      "metadata": {
        "id": "D7-tmWZw0zBK"
      },
      "source": [
        "#### Ejercicio: \n",
        "Transforma los datos de test utilizando la transformacion de los datos de train"
      ]
    },
    {
      "cell_type": "code",
      "metadata": {
        "id": "apXexV75AA4p",
        "colab": {
          "base_uri": "https://localhost:8080/",
          "height": 336
        },
        "outputId": "69354c62-8f44-4641-f379-6f06579e2b5a"
      },
      "source": [
        "#quantile_transformer = preprocessing.PowerTransformer(method='box-cox', standardize=False)\n",
        "# Otra opción \n",
        "quantile_transformer = preprocessing.QuantileTransformer(random_state=0)\n",
        "\n",
        "X_train_trans = quantile_transformer.fit_transform(X_train)\n",
        "X_test_trans = quantile_transformer.transform(X_test)\n",
        "\n",
        "plt.figure(figsize=(10,4))\n",
        "plt.subplot(1,2,1), plt.hist(X_train[:,0],21), plt.title('Sin ecualizar')\n",
        "plt.subplot(1,2,2), plt.hist(X_test_trans[:,0],21), plt.title('Ecualizado');"
      ],
      "execution_count": 59,
      "outputs": [
        {
          "output_type": "stream",
          "name": "stderr",
          "text": [
            "/usr/local/lib/python3.8/dist-packages/sklearn/preprocessing/_data.py:2590: UserWarning: n_quantiles (1000) is greater than the total number of samples (112). n_quantiles is set to n_samples.\n",
            "  warnings.warn(\n"
          ]
        },
        {
          "output_type": "display_data",
          "data": {
            "text/plain": [
              "<Figure size 720x288 with 2 Axes>"
            ],
            "image/png": "[encoded data removed]"
          },
          "metadata": {
            "needs_background": "light"
          }
        }
      ]
    },
    {
      "cell_type": "markdown",
      "metadata": {
        "id": "8Q2T9J9l_iVC"
      },
      "source": [
        "#### Ejercicio_extra: \n",
        "¿Cómo se haría en más dimensiones?"
      ]
    },
    {
      "cell_type": "code",
      "metadata": {
        "id": "85a2P3QxABbr",
        "colab": {
          "base_uri": "https://localhost:8080/",
          "height": 282
        },
        "outputId": "684352a5-b722-45c0-cc06-766ff5a5fe6c"
      },
      "source": [
        "plt.plot(X_train[:,0],X_train[:,2],'.')"
      ],
      "execution_count": 76,
      "outputs": [
        {
          "output_type": "execute_result",
          "data": {
            "text/plain": [
              "[<matplotlib.lines.Line2D at 0x7f86342c1d30>]"
            ]
          },
          "metadata": {},
          "execution_count": 76
        },
        {
          "output_type": "display_data",
          "data": {
            "text/plain": [
              "<Figure size 432x288 with 1 Axes>"
            ],
            "image/png": "[encoded data removed]"
          },
          "metadata": {
            "needs_background": "light"
          }
        }
      ]
    },
    {
      "cell_type": "code",
      "source": [
        "plt.plot(X_train[:,1],X_train[:,2],'.')"
      ],
      "metadata": {
        "id": "EdFWyuuoxrnM",
        "outputId": "cb0042fc-43f8-48e7-b0cd-54588c87ef0f",
        "colab": {
          "base_uri": "https://localhost:8080/",
          "height": 282
        }
      },
      "execution_count": 71,
      "outputs": [
        {
          "output_type": "execute_result",
          "data": {
            "text/plain": [
              "[<matplotlib.lines.Line2D at 0x7f8634fb96d0>]"
            ]
          },
          "metadata": {},
          "execution_count": 71
        },
        {
          "output_type": "display_data",
          "data": {
            "text/plain": [
              "<Figure size 432x288 with 1 Axes>"
            ],
            "image/png": "[encoded data removed]"
          },
          "metadata": {
            "needs_background": "light"
          }
        }
      ]
    },
    {
      "cell_type": "code",
      "source": [
        "plt.plot(X_train[:,2],X_train[:,2],'.')"
      ],
      "metadata": {
        "id": "V3VGFKgyyDX6",
        "outputId": "51bc034f-157f-430a-fb34-5e0856feb8a1",
        "colab": {
          "base_uri": "https://localhost:8080/",
          "height": 282
        }
      },
      "execution_count": 72,
      "outputs": [
        {
          "output_type": "execute_result",
          "data": {
            "text/plain": [
              "[<matplotlib.lines.Line2D at 0x7f86343fd400>]"
            ]
          },
          "metadata": {},
          "execution_count": 72
        },
        {
          "output_type": "display_data",
          "data": {
            "text/plain": [
              "<Figure size 432x288 with 1 Axes>"
            ],
            "image/png": "[encoded data removed]"
          },
          "metadata": {
            "needs_background": "light"
          }
        }
      ]
    },
    {
      "cell_type": "code",
      "source": [
        "plt.plot(X_train[:,3],X_train[:,3],'.')"
      ],
      "metadata": {
        "id": "fzfgwYMsyGLb",
        "outputId": "60cbef3d-ce8c-457b-93b0-351fdbb0ed18",
        "colab": {
          "base_uri": "https://localhost:8080/",
          "height": 282
        }
      },
      "execution_count": 74,
      "outputs": [
        {
          "output_type": "execute_result",
          "data": {
            "text/plain": [
              "[<matplotlib.lines.Line2D at 0x7f8635366eb0>]"
            ]
          },
          "metadata": {},
          "execution_count": 74
        },
        {
          "output_type": "display_data",
          "data": {
            "text/plain": [
              "<Figure size 432x288 with 1 Axes>"
            ],
            "image/png": "[encoded data removed]"
          },
          "metadata": {
            "needs_background": "light"
          }
        }
      ]
    },
    {
      "cell_type": "code",
      "metadata": {
        "colab": {
          "base_uri": "https://localhost:8080/",
          "height": 282
        },
        "id": "wfZDQTrIG82h",
        "outputId": "b142aa71-82bf-4ac7-8b11-db1956a94355"
      },
      "source": [
        "plt.plot(X_train_trans[:,0],X_train_trans[:,2],'.')"
      ],
      "execution_count": 64,
      "outputs": [
        {
          "output_type": "execute_result",
          "data": {
            "text/plain": [
              "[<matplotlib.lines.Line2D at 0x7f863524e6a0>]"
            ]
          },
          "metadata": {},
          "execution_count": 64
        },
        {
          "output_type": "display_data",
          "data": {
            "text/plain": [
              "<Figure size 432x288 with 1 Axes>"
            ],
            "image/png": "[encoded data removed]"
          },
          "metadata": {
            "needs_background": "light"
          }
        }
      ]
    },
    {
      "cell_type": "code",
      "metadata": {
        "colab": {
          "base_uri": "https://localhost:8080/",
          "height": 401
        },
        "id": "C2gpmv4hHEEK",
        "outputId": "4fda8593-c372-4a11-9acf-7cf3f1bf7598"
      },
      "source": [
        "plt.hist(X_train_trans[:,2],21)"
      ],
      "execution_count": null,
      "outputs": [
        {
          "output_type": "execute_result",
          "data": {
            "text/plain": [
              "(array([ 8.,  0.,  9.,  0., 11.,  6.,  3.,  6.,  6.,  3.,  8.,  4.,  6.,\n",
              "         3.,  4.,  8.,  6.,  4.,  6.,  6.,  5.]),\n",
              " array([0.        , 0.04761905, 0.0952381 , 0.14285714, 0.19047619,\n",
              "        0.23809524, 0.28571429, 0.33333333, 0.38095238, 0.42857143,\n",
              "        0.47619048, 0.52380952, 0.57142857, 0.61904762, 0.66666667,\n",
              "        0.71428571, 0.76190476, 0.80952381, 0.85714286, 0.9047619 ,\n",
              "        0.95238095, 1.        ]),\n",
              " <a list of 21 Patch objects>)"
            ]
          },
          "metadata": {
            "tags": []
          },
          "execution_count": 62
        },
        {
          "output_type": "display_data",
          "data": {
            "image/png": "[encoded data removed]",
            "text/plain": [
              "<Figure size 432x288 with 1 Axes>"
            ]
          },
          "metadata": {
            "tags": [],
            "needs_background": "light"
          }
        }
      ]
    },
    {
      "cell_type": "markdown",
      "metadata": {
        "id": "03KZeecdEbK_"
      },
      "source": [
        "#### Ejercicio extra: \n",
        "Visualiza que le pasa a una imágen cuando se ecualizan los valores de los pixels."
      ]
    },
    {
      "cell_type": "code",
      "metadata": {
        "id": "2PfkiKecEbLJ",
        "outputId": "318c8dff-3ff1-4701-a57f-8ecab600e136",
        "colab": {
          "base_uri": "https://localhost:8080/",
          "height": 223
        }
      },
      "source": [
        "from skimage import io\n",
        "img = io.imread('valencia.jfif')\n",
        "io.imshow(img)\n",
        "io.show()"
      ],
      "execution_count": 79,
      "outputs": [
        {
          "output_type": "display_data",
          "data": {
            "text/plain": [
              "<Figure size 432x288 with 1 Axes>"
            ],
            "image/png": "[encoded data removed]"
          },
          "metadata": {
            "needs_background": "light"
          }
        }
      ]
    },
    {
      "cell_type": "code",
      "source": [
        "from google.colab import drive\n",
        "drive.mount('/content/drive')"
      ],
      "metadata": {
        "id": "KnFZGPPK0ldc",
        "outputId": "69dd1d57-535a-461f-9445-580b2faa5c9c",
        "colab": {
          "base_uri": "https://localhost:8080/"
        }
      },
      "execution_count": 77,
      "outputs": [
        {
          "output_type": "stream",
          "name": "stdout",
          "text": [
            "Mounted at /content/drive\n"
          ]
        }
      ]
    },
    {
      "cell_type": "markdown",
      "metadata": {
        "id": "a04Y0roUQyfh"
      },
      "source": [
        "# Parte 2 - Métodos selección y extracción de características"
      ]
    },
    {
      "cell_type": "markdown",
      "metadata": {
        "id": "vXzReJ4NQskt"
      },
      "source": [
        "# Selección de caraterísticas mediante métodos *filter*"
      ]
    },
    {
      "cell_type": "markdown",
      "metadata": {
        "id": "AJYOcHCaQskt"
      },
      "source": [
        "## Correlación entre las variables de entrada y la de salida\n",
        "### El método consiste en ver qué variables de entrada están más correlacionadas con la salida y escoger aquellas con mayor correlación\n",
        "### Seguimos con el dataset IRIS"
      ]
    },
    {
      "cell_type": "code",
      "metadata": {
        "id": "7o0b6LRHQskt"
      },
      "source": [
        "X, y = load_iris(return_X_y=True)"
      ],
      "execution_count": 80,
      "outputs": []
    },
    {
      "cell_type": "markdown",
      "metadata": {
        "id": "LlBvZpKkQskt"
      },
      "source": [
        "#### Ejercicio:\n",
        "Calcula la correlación (`np.corrcoef`) entre las entradas y la salidas. Muestra los valores calculados y selecciona dos de las variables más adecuadas."
      ]
    },
    {
      "cell_type": "code",
      "metadata": {
        "id": "-i_j8qFxQskt",
        "colab": {
          "base_uri": "https://localhost:8080/"
        },
        "outputId": "a2cb6d9f-ddb7-433f-eada-ffb85a864bd5"
      },
      "source": [
        "np.corrcoef(X[:,0],y)[0,1]"
      ],
      "execution_count": 81,
      "outputs": [
        {
          "output_type": "execute_result",
          "data": {
            "text/plain": [
              "0.782561231810082"
            ]
          },
          "metadata": {},
          "execution_count": 81
        }
      ]
    },
    {
      "cell_type": "code",
      "metadata": {
        "colab": {
          "base_uri": "https://localhost:8080/"
        },
        "id": "rMmhsLTZSdox",
        "outputId": "f0df9b44-ab9c-4b9c-f474-a8d303a43f25"
      },
      "source": [
        "np.corrcoef(X[:,1],y)[0,1]"
      ],
      "execution_count": 82,
      "outputs": [
        {
          "output_type": "execute_result",
          "data": {
            "text/plain": [
              "-0.4266575607811244"
            ]
          },
          "metadata": {},
          "execution_count": 82
        }
      ]
    },
    {
      "cell_type": "code",
      "metadata": {
        "colab": {
          "base_uri": "https://localhost:8080/"
        },
        "id": "dSyH6UWkShsD",
        "outputId": "e14ac8f0-e5e9-4b26-e9e8-66ce274b043c"
      },
      "source": [
        "np.corrcoef(X[:,2],y)[0,1]"
      ],
      "execution_count": 83,
      "outputs": [
        {
          "output_type": "execute_result",
          "data": {
            "text/plain": [
              "0.9490346990083889"
            ]
          },
          "metadata": {},
          "execution_count": 83
        }
      ]
    },
    {
      "cell_type": "code",
      "metadata": {
        "colab": {
          "base_uri": "https://localhost:8080/"
        },
        "id": "3onW0JWDSjTs",
        "outputId": "ad6a050e-4297-4ca0-e049-e8a2a5d004fe"
      },
      "source": [
        "np.corrcoef(X[:,3],y)[0,1]"
      ],
      "execution_count": 84,
      "outputs": [
        {
          "output_type": "execute_result",
          "data": {
            "text/plain": [
              "0.9565473328764034"
            ]
          },
          "metadata": {},
          "execution_count": 84
        }
      ]
    },
    {
      "cell_type": "code",
      "source": [
        "X.shape"
      ],
      "metadata": {
        "id": "MMVt-x20IacK",
        "outputId": "961552d7-090e-44a4-8b28-6e6826fd11e0",
        "colab": {
          "base_uri": "https://localhost:8080/"
        }
      },
      "execution_count": 89,
      "outputs": [
        {
          "output_type": "execute_result",
          "data": {
            "text/plain": [
              "(150, 4)"
            ]
          },
          "metadata": {},
          "execution_count": 89
        }
      ]
    },
    {
      "cell_type": "markdown",
      "metadata": {
        "id": "1oFqatOsQskw"
      },
      "source": [
        "## Correlación entre variables de entrada\n",
        "### En este caso vamos a descartar variables de entrada que estén muy correlacionadas entre sí, puesto que entendemos que no añaden más información al modelo y pueden perjudicar su rendimiento.\n",
        "#### Por ejemplo si encontramos que las variables `X[:,0]` y `X[:,1]` (dimensiones 1 y 2) están muy correlacionadas descartaremos una de las dos.\n",
        "#### Ejercicio:\n",
        "Calcula la correlación entre todas las variables de entrada y descarta alguna con alta correlación cruzada."
      ]
    },
    {
      "cell_type": "code",
      "metadata": {
        "id": "Qk9f0GGwQskw",
        "outputId": "067a2610-751a-48eb-9c7d-1fe229e32d5a",
        "colab": {
          "base_uri": "https://localhost:8080/"
        }
      },
      "source": [
        "\n",
        "\n",
        "# Calcular la matriz de correlación\n",
        "X_r = np.corrcoef(X, rowvar=False)\n",
        "\n",
        "# Inicializar una lista para almacenar las variables con alta correlación\n",
        "high_corr_vars = []\n",
        "\n",
        "# Umbral de correlación para considerar alta correlación\n",
        "threshold = 0.95\n",
        "\n",
        "# Recorrer las variables (columnas) de la matriz de datos\n",
        "for i in range(X_r.shape[1]):\n",
        "    for j in range(i + 1, X_r.shape[1]):\n",
        "        # Comparar la correlación entre cada par de variables\n",
        "        if abs(X_r[i, j]) > threshold:\n",
        "            # Si la correlación es alta, agregar ambas variables a la lista de variables con alta correlación\n",
        "            high_corr_vars.append(i)\n",
        "            high_corr_vars.append(j)\n",
        "\n",
        "# Eliminar las variables con alta correlación\n",
        "data = np.delete(X_r, high_corr_vars, axis=1)\n",
        "\n",
        "print(X_r)\n",
        "\n"
      ],
      "execution_count": 107,
      "outputs": [
        {
          "output_type": "stream",
          "name": "stdout",
          "text": [
            "[[ 1.         -0.11756978  0.87175378  0.81794113]\n",
            " [-0.11756978  1.         -0.4284401  -0.36612593]\n",
            " [ 0.87175378 -0.4284401   1.          0.96286543]\n",
            " [ 0.81794113 -0.36612593  0.96286543  1.        ]]\n"
          ]
        }
      ]
    },
    {
      "cell_type": "markdown",
      "metadata": {
        "id": "_VKAf8pRQskx"
      },
      "source": [
        "#### Ejercicio\n",
        "Representa gráficamente las relaciones entre variables (puedes usar `plt.imshow`)."
      ]
    },
    {
      "cell_type": "code",
      "metadata": {
        "id": "tnwm3xKGQskx",
        "colab": {
          "base_uri": "https://localhost:8080/",
          "height": 286
        },
        "outputId": "d9f87bc3-5ea3-4e86-c20d-9d39cbc82811"
      },
      "source": [
        "plt.imshow(np.corrcoef(X,rowvar=False))"
      ],
      "execution_count": 96,
      "outputs": [
        {
          "output_type": "execute_result",
          "data": {
            "text/plain": [
              "<matplotlib.image.AxesImage at 0x7f862f400f70>"
            ]
          },
          "metadata": {},
          "execution_count": 96
        },
        {
          "output_type": "display_data",
          "data": {
            "text/plain": [
              "<Figure size 432x288 with 1 Axes>"
            ],
            "image/png": "[encoded data removed]"
          },
          "metadata": {
            "needs_background": "light"
          }
        }
      ]
    },
    {
      "cell_type": "markdown",
      "metadata": {
        "id": "PG9Seay4Qskx"
      },
      "source": [
        "## Información mutua (MI) entre las variables de entrada y salida"
      ]
    },
    {
      "cell_type": "markdown",
      "metadata": {
        "id": "89fshz46Qskx"
      },
      "source": [
        "### En primer lugar vamos a calcular la MI. Por definición sabemos que la MI entre dos variables **discretas** $X,Y$ viene dada por\n",
        "$$ \\textrm{MI}(X,Y) = \\sum_{y\\in \\mathcal{Y}}\\sum_{x\\in \\mathcal{X}} p(x,y)\\log\\left(\\frac{p(x,y)}{p(x)p(y)}\\right) $$\n",
        "Más info: https://en.wikipedia.org/wiki/Mutual_information"
      ]
    },
    {
      "cell_type": "markdown",
      "metadata": {
        "id": "r5DLrpHYQskx"
      },
      "source": [
        "En primer lugar estimamos la probabilidad para cada clase de la variable de salida. También podemos calcular su entropía que, viene dada por $ J(y)=-\\sum p(y)\\log p(y) $."
      ]
    },
    {
      "cell_type": "code",
      "metadata": {
        "id": "aG4TdHhJQskx",
        "colab": {
          "base_uri": "https://localhost:8080/"
        },
        "outputId": "fcffc3c8-6af7-4ad7-877d-58e8cfa74aee"
      },
      "source": [
        "# Entropia de las variables //discretas// de salida: J(y) = -sum P(c)log(P(c))\n",
        "classes = np.unique(y)\n",
        "# Probablidad de cada classe\n",
        "py = np.zeros(len(classes))\n",
        "for nc, c in enumerate(classes):\n",
        "    py[c] = np.sum(y == c)\n",
        "# Convertimos en probablididades normalizando por el total\n",
        "py /= np.sum(py)\n",
        "# Calculamos la entropía\n",
        "jy = np.sum(py * np.log(py))\n",
        "print('p(y)', py, 'y entropy', jy)"
      ],
      "execution_count": 109,
      "outputs": [
        {
          "output_type": "stream",
          "name": "stdout",
          "text": [
            "p(y) [0.33333333 0.33333333 0.33333333] y entropy -1.0986122886681096\n"
          ]
        }
      ]
    },
    {
      "cell_type": "markdown",
      "metadata": {
        "id": "9rCd_4KMQsky"
      },
      "source": [
        "### Para poder trabajar con las variables de la entrada tendremos que cuantificarlas dado que son continuas.\n",
        "#### Ejercicio:\n",
        "Utiliza `KBinsDiscretizer` visto en la primera parte para crear una nueva variable `Xd` discretizando la variable `X`. Utiliza 9 bins."
      ]
    },
    {
      "cell_type": "code",
      "metadata": {
        "id": "xeZzTwNBQsky"
      },
      "source": [
        "from sklearn.preprocessing import KBinsDiscretizer\n",
        "# Ejercicio: jugar con distintos bins. Cuanto más, más fino, pero mayor entropía.\n",
        "kbd = KBinsDiscretizer(n_bins=9, encode='ordinal')\n",
        "Xd = kbd.fit_transform(X)"
      ],
      "execution_count": 110,
      "outputs": []
    },
    {
      "cell_type": "markdown",
      "metadata": {
        "id": "7-uqt_qAQsky"
      },
      "source": [
        "#### Ejercicio Resuelto:\n",
        "Completa el siguiente código para estimar p(x) y p(x,y) y así poder calcular la MI entre cada variable de entrada y la salida.\n",
        "<br>Los trozos de código entre `# --------------` son los que debes rellenar."
      ]
    },
    {
      "cell_type": "code",
      "metadata": {
        "id": "-fI8aKXPQsky",
        "colab": {
          "base_uri": "https://localhost:8080/"
        },
        "outputId": "facb60b7-ae39-4844-e713-1f367d7a8c18"
      },
      "source": [
        "# Vamos a calcular la MI para cada variable en X\n",
        "nv = Xd.shape[1]\n",
        "mi = np.zeros(nv)\n",
        "# Valores distintos en Xd\n",
        "xvalues = np.unique(Xd)\n",
        "for v in range(nv):\n",
        "    # Calculamos px\n",
        "    px = np.zeros(len(xvalues))\n",
        "    # --------------\n",
        "    for i, value in enumerate(xvalues):\n",
        "        px[i] = np.sum([Xd[:,v] == value])\n",
        "    px /= np.sum(px)\n",
        "    # --------------\n",
        "\n",
        "    # Calculamos pxy\n",
        "    pxy = np.zeros((len(xvalues), len(classes)))\n",
        "    # --------------\n",
        "    for i, value in enumerate(xvalues):\n",
        "        for j, cls in enumerate(classes):\n",
        "            pxy[i,j] = np.sum((Xd[:,v] == value) & (y == cls))\n",
        "    pxy /= np.sum(pxy)\n",
        "    # --------------\n",
        "    \n",
        "    # Calculamos MI: sum_x(sum_y( p(x,y) * log(p(x,y) / (p(x)*p(y)) ))\n",
        "    mi[v] = 0.0\n",
        "    for i in range(pxy.shape[0]):\n",
        "        for j in range(pxy.shape[1]):\n",
        "            # Evitar divisiones por cero y logaritmos = -inf\n",
        "            if pxy[i,j] > 0 and px[i] > 0 and py[j] > 0:\n",
        "                # --------------\n",
        "                mi[v] += pxy[i,j] * np.log(pxy[i,j] / px[i] / py[j])\n",
        "                # --------------\n",
        "\n",
        "print(mi)    "
      ],
      "execution_count": 112,
      "outputs": [
        {
          "output_type": "stream",
          "name": "stdout",
          "text": [
            "[0.5032742  0.31671819 0.98041703 0.97135001]\n"
          ]
        }
      ]
    },
    {
      "cell_type": "markdown",
      "metadata": {
        "id": "nXbGurX9Qsky"
      },
      "source": [
        "#### Ejercicio\n",
        "Compara el resultado obtenido con el de la implementación de scikit learn `sklearn.feature_selection.mutual_info_classif`."
      ]
    },
    {
      "cell_type": "code",
      "metadata": {
        "id": "6R2n84tIQsky",
        "colab": {
          "base_uri": "https://localhost:8080/"
        },
        "outputId": "9cface39-3794-4fc2-d5a6-c5e0581ae353"
      },
      "source": [
        "from sklearn.feature_selection import mutual_info_classif\n",
        "mi = mutual_info_classif(X, y, discrete_features='auto')\n",
        "print(mi)"
      ],
      "execution_count": 113,
      "outputs": [
        {
          "output_type": "stream",
          "name": "stdout",
          "text": [
            "[0.50229718 0.29636587 0.98608113 0.98235594]\n"
          ]
        }
      ]
    },
    {
      "cell_type": "markdown",
      "metadata": {
        "id": "fUWui_q4Qsky"
      },
      "source": [
        "### En sci-kit learn tenemos una función para seleccionar las mejores `k` variables, `SelectKBest`. Esto junto con la función `mutual_info_classif` nos permite seleccionar grupos de variables.\n",
        "#### Ejercicio:\n",
        "Utiliza `sklearn.feature_selection.SelectKBest` y `mutual_info_classif` para seleccionar automáticamente las dos mejores variables."
      ]
    },
    {
      "cell_type": "code",
      "metadata": {
        "id": "fxXMQCbIQsky",
        "colab": {
          "base_uri": "https://localhost:8080/"
        },
        "outputId": "41ecd7ff-83fc-498d-8cbe-8805b59ec899"
      },
      "source": [
        "from sklearn.feature_selection import SelectKBest\n",
        "Xnew = SelectKBest(mutual_info_classif, k=2).fit_transform(X, y)\n",
        "Xnew.shape"
      ],
      "execution_count": null,
      "outputs": [
        {
          "output_type": "execute_result",
          "data": {
            "text/plain": [
              "(150, 2)"
            ]
          },
          "metadata": {
            "tags": []
          },
          "execution_count": 77
        }
      ]
    },
    {
      "cell_type": "markdown",
      "metadata": {
        "id": "QAZSqBo7Qsky"
      },
      "source": [
        "* Hay otros estadísticos que se pueden usar en problemas de clasificación:\n",
        "    - `chi2`: estadístico $\\chi^2$ (chi cuadrado) entre X, y.\n",
        "    - `f_classif`: Test ANOVA entre X, y.\n",
        "- Para problemas de regression podemos usar `mutual_info_regression` o `f_regression`."
      ]
    },
    {
      "cell_type": "markdown",
      "metadata": {
        "id": "U33hCLaUQsky"
      },
      "source": [
        "## Información Mútua entre variables de entrada\n",
        "### Igual que con la correlación, entre dos variables con MI alto una de ellas podría descartarse.\n",
        "#### Ejercicio:\n",
        "Utiliza `mutual_info_regression` entre cada par de variables de entrada para detectar las que contienen información mútua y descarta una de ellas."
      ]
    },
    {
      "cell_type": "code",
      "metadata": {
        "id": "jCu0QYw7Qsky",
        "outputId": "8ee52112-30ff-45ee-bc2e-04e7925cd14e"
      },
      "source": [],
      "execution_count": null,
      "outputs": [
        {
          "output_type": "stream",
          "text": [
            "[3.24027054 0.26960809 0.8623282  0.60492889]\n",
            "[0.31462327 2.70008337 0.30951314 0.42384821]\n",
            "[0.87062424 0.34293345 3.20856395 1.18513448]\n",
            "[0.63216726 0.42638752 1.18787716 2.70613896]\n"
          ],
          "name": "stdout"
        }
      ]
    },
    {
      "cell_type": "markdown",
      "metadata": {
        "id": "v2g-pDVLQsky"
      },
      "source": [
        "# Selección de caraterísticas mediante métodos *wrapper*\n",
        "### Los métodos *wrapper* se basan en seleccionar las variables que mejor funcionarán para un determinado modelo. Para ello necesitamos un modelo de clasificación o regresión, e iremos probando todas las combinaciones de variables una a una y en grupos.\n",
        "### Vamos a experimentar con este método con un problema sencillo de regresión donde ajustaremos una recta por mínimos cuadrados. El problema lo generaremos con la función `make_regression` de scikit-learn, asegurándonos de crear un número de variables informativas menor que el número total de variables, tal y como muestra el código a continuación.\n",
        "### Generamos 100 muestras de un problema de regresión con 4 variables de entrada y una de salida. De las 4 variables solo 3 son necesarias para poder predecir. Además añádimos una pequeña cantidad de ruido para complicar un poco el problema."
      ]
    },
    {
      "cell_type": "code",
      "metadata": {
        "id": "V2TjVX1hQsky"
      },
      "source": [
        "from sklearn.datasets import make_regression\n",
        "# Para que el ejemplo tenga sentido tenemos que poner n_informative < n_features\n",
        "X, y = make_regression(n_samples=100, n_features=4, n_informative=3, n_targets=1, noise=0.01)"
      ],
      "execution_count": null,
      "outputs": []
    },
    {
      "cell_type": "markdown",
      "metadata": {
        "id": "Czfr0CN1Qsky"
      },
      "source": [
        "### En la siguiente celda de código hacemos dos cosas:\n",
        "1. Dividimos el conjunto de `X,y` en entrenamiento (train) y test.\n",
        "2. Definimos una clase de Python con un modelo sencillo de regresión lineal.\n",
        "\n",
        "Como os podéis imaginar ya existen modelos así en scikit-learn. El objetivo de definir uno nosotros es doble: 1) para que tengáis un ejemplo de cómo se hace, y 2) para que os familiarizéis con la programación de objetos en Python."
      ]
    },
    {
      "cell_type": "code",
      "metadata": {
        "id": "X5M8-J9eQsky",
        "colab": {
          "base_uri": "https://localhost:8080/"
        },
        "outputId": "fb6ac5f8-bb1e-4d1b-90dc-b55945e88a11"
      },
      "source": [
        "# Separamos en entrenamiento y test\n",
        "from sklearn.model_selection import train_test_split\n",
        "Xtrain, Xtest, ytrain, ytest = train_test_split(X, y, test_size=0.33)\n",
        "\n",
        "# Nos aseguramos de que la y tenga dimensión Nx1\n",
        "ytrain = ytrain.reshape(-1,1)\n",
        "ytest = ytest.reshape(-1,1)\n",
        "\n",
        "# Definimos un modelo sencillo de regresión lineal\n",
        "class myLinearModel:\n",
        "    def __init__(self):\n",
        "        self.alphas = None\n",
        "    \n",
        "    def add_ones(self, X):\n",
        "        ones = np.ones((X.shape[0] ,1))\n",
        "        return np.hstack((X, ones))\n",
        "    \n",
        "    def fit(self, X, y):\n",
        "        # y = X*alphas => pinv(X)*y = alphas\n",
        "        self.alphas = np.dot(np.linalg.pinv(self.add_ones(X)), y)\n",
        "        return self.alphas\n",
        "\n",
        "    # Con esta función predecimos\n",
        "    def predict(self, X):\n",
        "        if self.alphas is not None:\n",
        "            return np.dot(self.add_ones(X), self.alphas)\n",
        "        else:\n",
        "            return None\n",
        "\n",
        "    # Y con esta otra medimos el error\n",
        "    def score(self, y, yp):\n",
        "        print('MSE', np.sum((y - yp)**2) / len(y))\n",
        "\n",
        "# Esto ya existe en sklearn, pero mola más programarlo un mismo!\n",
        "# from sklearn.linear_model import LinearRegression\n",
        "# lr = LinearRegression()\n",
        "# lr.fit(Xtrain, ytrain)\n",
        "# yp = lr.predict(Xtest)\n",
        "# print(lr.score(Xtest, ytest))\n",
        "\n",
        "# Comprobamos que funciona\n",
        "model = myLinearModel()\n",
        "model.fit(Xtrain, ytrain)\n",
        "yp = model.predict(Xtest)\n",
        "model.score(ytest, yp)\n",
        "print(model.alphas.T)"
      ],
      "execution_count": null,
      "outputs": [
        {
          "output_type": "stream",
          "text": [
            "MSE 9.709120303461906e-05\n",
            "[[7.99900067e+01 4.57653605e+01 7.78123700e-04 4.45488545e+01\n",
            "  5.27633404e-04]]\n"
          ],
          "name": "stdout"
        }
      ]
    },
    {
      "cell_type": "markdown",
      "metadata": {
        "id": "gXmnNuZWQskz"
      },
      "source": [
        "### Vamos ahora con el método de selección de variables propiamente dicho.\n",
        "### En primer lugar vamos probando con cada variable una por una ...\n",
        "#### Ejercicio:\n",
        "Prueba una por una las variables de entrada en nuestro `myLinearModel`. Comprueba los resultados\n",
        "con las funciones `fit`, `predict` y `score`."
      ]
    },
    {
      "cell_type": "code",
      "metadata": {
        "id": "WiBXfhBbQskz",
        "colab": {
          "base_uri": "https://localhost:8080/"
        },
        "outputId": "bc856679-4051-4928-8788-c8023024d9a3"
      },
      "source": [
        "for i in range(Xtrain.shape[1]):\n",
        "    mx = myLinearModel()\n",
        "    mx.fit(Xtrain[:, i, None], ytrain)\n",
        "    yx = mx.predict(Xtest[:, i, None])\n",
        "    mx.score(ytest, yx)"
      ],
      "execution_count": null,
      "outputs": [
        {
          "output_type": "stream",
          "text": [
            "MSE 4938.117853555071\n",
            "MSE 7546.067118356265\n",
            "MSE 11052.13425643875\n",
            "MSE 9431.058929063567\n"
          ],
          "name": "stdout"
        }
      ]
    },
    {
      "cell_type": "markdown",
      "metadata": {
        "id": "RWl-tFyJQskz"
      },
      "source": [
        "### Ahora en grupos de dos ...\n",
        "#### Ejercicio:\n",
        "Ahora prueba todas las combinaciones de dos variables. Para ello usaremos `combinations` de la librería `itertools`."
      ]
    },
    {
      "cell_type": "code",
      "metadata": {
        "id": "Dd-72q2VQskz",
        "colab": {
          "base_uri": "https://localhost:8080/"
        },
        "outputId": "55ae38e1-79bf-4047-be40-a7f7d575cc1b"
      },
      "source": [
        "from itertools import combinations\n",
        "for c in combinations(range(4), 2):\n",
        "    mx = myLinearModel()\n",
        "    mx.fit(Xtrain[:, c], ytrain)\n",
        "    yx = mx.predict(Xtest[:, c])\n",
        "    mx.score(ytest, yx)\n",
        "    print(c)\n"
      ],
      "execution_count": null,
      "outputs": [
        {
          "output_type": "stream",
          "text": [
            "MSE 1552.6552610681\n",
            "(0, 1)\n",
            "MSE 5139.092484260031\n",
            "(0, 2)\n",
            "MSE 3035.3345207052953\n",
            "(0, 3)\n",
            "MSE 7969.497970943606\n",
            "(1, 2)\n",
            "MSE 6951.3117924753205\n",
            "(1, 3)\n",
            "MSE 10011.88894335074\n",
            "(2, 3)\n"
          ],
          "name": "stdout"
        }
      ]
    },
    {
      "cell_type": "code",
      "metadata": {
        "colab": {
          "base_uri": "https://localhost:8080/",
          "height": 282
        },
        "id": "9ch7HvwWZHST",
        "outputId": "5c7662e5-1693-4c76-e768-045111368566"
      },
      "source": [
        "plt.plot(yx)"
      ],
      "execution_count": null,
      "outputs": [
        {
          "output_type": "execute_result",
          "data": {
            "text/plain": [
              "[<matplotlib.lines.Line2D at 0x7f87ae661b00>]"
            ]
          },
          "metadata": {
            "tags": []
          },
          "execution_count": 107
        },
        {
          "output_type": "display_data",
          "data": {
            "image/png": "[encoded data removed]",
            "text/plain": [
              "<Figure size 432x288 with 1 Axes>"
            ]
          },
          "metadata": {
            "tags": [],
            "needs_background": "light"
          }
        }
      ]
    },
    {
      "cell_type": "markdown",
      "metadata": {
        "id": "C0QSxMGbQskz"
      },
      "source": [
        "### Y por último en grupos de tres ..."
      ]
    },
    {
      "cell_type": "code",
      "metadata": {
        "id": "SzNQhHN0Qskz",
        "colab": {
          "base_uri": "https://localhost:8080/"
        },
        "outputId": "7e31b928-cf0a-4a2f-f09d-946d03c53b84"
      },
      "source": [
        "from itertools import combinations\n",
        "for c in combinations(range(4), 3):\n",
        "    mx = myLinearModel()\n",
        "    mx.fit(Xtrain[:, c], ytrain)\n",
        "    yx = mx.predict(Xtest[:, c])\n",
        "    mx.score(ytest, yx)\n",
        "    print(c)"
      ],
      "execution_count": null,
      "outputs": [
        {
          "output_type": "stream",
          "text": [
            "MSE 1570.6500824465695\n",
            "(0, 1, 2)\n",
            "MSE 9.817889099249657e-05\n",
            "(0, 1, 3)\n",
            "MSE 3105.2136532973436\n",
            "(0, 2, 3)\n",
            "MSE 7256.348724353304\n",
            "(1, 2, 3)\n"
          ],
          "name": "stdout"
        }
      ]
    },
    {
      "cell_type": "code",
      "metadata": {
        "id": "bYJguL6pZd3Y"
      },
      "source": [],
      "execution_count": null,
      "outputs": []
    }
  ]
}