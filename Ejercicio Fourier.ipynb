{
  "nbformat": 4,
  "nbformat_minor": 0,
  "metadata": {
    "colab": {
      "provenance": [],
      "authorship_tag": "ABX9TyOXDx76sAD3WJ9DzwKQaUj2",
      "include_colab_link": true
    },
    "kernelspec": {
      "name": "python3",
      "display_name": "Python 3"
    },
    "language_info": {
      "name": "python"
    }
  },
  "cells": [
    {
      "cell_type": "markdown",
      "metadata": {
        "id": "view-in-github",
        "colab_type": "text"
      },
      "source": [
        "<a href=\"https://colab.research.google.com/github/hg15200/Clase/blob/main/Ejercicio%20Fourier.ipynb\" target=\"_parent\"><img src=\"https://colab.research.google.com/assets/colab-badge.svg\" alt=\"Open In Colab\"/></a>"
      ]
    },
    {
      "cell_type": "markdown",
      "source": [
        "#1-D Discrete Fourier Transforms"
      ],
      "metadata": {
        "id": "KhE06eoS6n2j"
      }
    },
    {
      "cell_type": "code",
      "execution_count": null,
      "metadata": {
        "id": "0GPxWY3v5VBt"
      },
      "outputs": [],
      "source": [
        "from scipy.fft import fft, ifft\n",
        "import numpy as np\n",
        "x = np.array([1.0, 2.0, 1.0, -1.0, 1.5])\n",
        "y = fft(x)\n",
        "y\n"
      ]
    },
    {
      "cell_type": "code",
      "source": [
        "yinv = ifft(y)\n",
        "yinv"
      ],
      "metadata": {
        "id": "Tt0rPV7B5xxj"
      },
      "execution_count": null,
      "outputs": []
    },
    {
      "cell_type": "code",
      "source": [
        "np.sum(x)"
      ],
      "metadata": {
        "id": "GbBi3lD15zsy"
      },
      "execution_count": null,
      "outputs": []
    },
    {
      "cell_type": "code",
      "source": [
        "from scipy.fft import fft, fftfreq\n",
        "import numpy as np\n",
        "# Number of sample points\n",
        "N = 600\n",
        "# sample spacing\n",
        "T = 1.0 / 800.0\n",
        "x = np.linspace(0.0, N*T, N, endpoint=False)\n",
        "y = np.sin(50.0 * 2.0*np.pi*x) + 0.5*np.sin(80.0 * 2.0*np.pi*x)\n",
        "yf = fft(y)\n",
        "xf = fftfreq(N, T)[:N//2]\n",
        "import matplotlib.pyplot as plt\n",
        "plt.plot(xf, 2.0/N * np.abs(yf[0:N//2]))\n",
        "plt.grid()\n",
        "plt.show()"
      ],
      "metadata": {
        "id": "WKm0plT75_Bm"
      },
      "execution_count": null,
      "outputs": []
    },
    {
      "cell_type": "code",
      "source": [
        "from scipy.fft import fft, fftfreq\n",
        "import numpy as np\n",
        "# Number of sample points\n",
        "N = 600\n",
        "# sample spacing\n",
        "T = 1.0 / 800.0\n",
        "x = np.linspace(0.0, N*T, N, endpoint=False)\n",
        "y = np.sin(50.0 * 2.0*np.pi*x) + 0.5*np.sin(80.0 * 2.0*np.pi*x)\n",
        "yf = fft(y)\n",
        "from scipy.signal import blackman\n",
        "w = blackman(N)\n",
        "ywf = fft(y*w)\n",
        "xf = fftfreq(N, T)[:N//2]\n",
        "import matplotlib.pyplot as plt\n",
        "plt.semilogy(xf[1:N//2], 2.0/N * np.abs(yf[1:N//2]), '-b')\n",
        "plt.semilogy(xf[1:N//2], 2.0/N * np.abs(ywf[1:N//2]), '-r')\n",
        "plt.legend(['FFT', 'FFT w. window'])\n",
        "plt.grid()\n",
        "plt.show()"
      ],
      "metadata": {
        "id": "2YluC9ET6EZD"
      },
      "execution_count": null,
      "outputs": []
    },
    {
      "cell_type": "code",
      "source": [
        "from scipy.fft import fftfreq\n",
        "freq = fftfreq(8, 0.125)\n",
        "freq"
      ],
      "metadata": {
        "id": "xd6_tG606PiT"
      },
      "execution_count": null,
      "outputs": []
    },
    {
      "cell_type": "code",
      "source": [
        "from scipy.fft import fftshift\n",
        "x = np.arange(8)\n",
        "fftshift(x)"
      ],
      "metadata": {
        "id": "IQfrB8Tz6Rei"
      },
      "execution_count": null,
      "outputs": []
    },
    {
      "cell_type": "code",
      "source": [
        "from scipy.fft import fft, fftfreq, fftshift\n",
        "import numpy as np\n",
        "# number of signal points\n",
        "N = 400\n",
        "# sample spacing\n",
        "T = 1.0 / 800.0\n",
        "x = np.linspace(0.0, N*T, N, endpoint=False)\n",
        "y = np.exp(50.0 * 1.j * 2.0*np.pi*x) + 0.5*np.exp(-80.0 * 1.j * 2.0*np.pi*x)\n",
        "yf = fft(y)\n",
        "xf = fftfreq(N, T)\n",
        "xf = fftshift(xf)\n",
        "yplot = fftshift(yf)\n",
        "import matplotlib.pyplot as plt\n",
        "plt.plot(xf, 1.0/N * np.abs(yplot))\n",
        "plt.grid()\n",
        "plt.show()"
      ],
      "metadata": {
        "id": "mCtXgd_V6T-b"
      },
      "execution_count": null,
      "outputs": []
    },
    {
      "cell_type": "code",
      "source": [
        "from scipy.fft import fft, rfft, irfft\n",
        "x = np.array([1.0, 2.0, 1.0, -1.0, 1.5, 1.0])\n",
        "fft(x)"
      ],
      "metadata": {
        "id": "gRL9PVfK6WNk"
      },
      "execution_count": null,
      "outputs": []
    },
    {
      "cell_type": "code",
      "source": [
        "yr = rfft(x)\n",
        "yr"
      ],
      "metadata": {
        "id": "YO9_kCRI6YCy"
      },
      "execution_count": null,
      "outputs": []
    },
    {
      "cell_type": "code",
      "source": [
        "irfft(yr)"
      ],
      "metadata": {
        "id": "DtSmLqux6Zyy"
      },
      "execution_count": null,
      "outputs": []
    },
    {
      "cell_type": "code",
      "source": [
        "x = np.array([1.0, 2.0, 1.0, -1.0, 1.5])\n",
        "fft(x)"
      ],
      "metadata": {
        "id": "uleejq4z6b-C"
      },
      "execution_count": null,
      "outputs": []
    },
    {
      "cell_type": "code",
      "source": [
        "yr = rfft(x)\n",
        "yr"
      ],
      "metadata": {
        "id": "n0M2QXhg6ezK"
      },
      "execution_count": null,
      "outputs": []
    },
    {
      "cell_type": "code",
      "source": [
        "irfft(yr)"
      ],
      "metadata": {
        "id": "NTVY-dCQ6hLS"
      },
      "execution_count": null,
      "outputs": []
    },
    {
      "cell_type": "code",
      "source": [
        "irfft(yr, n=len(x))"
      ],
      "metadata": {
        "id": "UG-_Ogpb6jMK"
      },
      "execution_count": null,
      "outputs": []
    },
    {
      "cell_type": "markdown",
      "source": [],
      "metadata": {
        "id": "M2w_5GTO6mZS"
      }
    }
  ]
}